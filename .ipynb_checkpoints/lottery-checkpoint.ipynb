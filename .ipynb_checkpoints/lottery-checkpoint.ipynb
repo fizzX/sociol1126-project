{
 "cells": [
  {
   "cell_type": "code",
   "execution_count": 5,
   "metadata": {},
   "outputs": [],
   "source": [
    "import numpy as np\n",
    "import pandas as pd\n",
    "import random"
   ]
  },
  {
   "cell_type": "code",
   "execution_count": 3,
   "metadata": {},
   "outputs": [
    {
     "data": {
      "text/html": [
       "<div>\n",
       "<style scoped>\n",
       "    .dataframe tbody tr th:only-of-type {\n",
       "        vertical-align: middle;\n",
       "    }\n",
       "\n",
       "    .dataframe tbody tr th {\n",
       "        vertical-align: top;\n",
       "    }\n",
       "\n",
       "    .dataframe thead th {\n",
       "        text-align: right;\n",
       "    }\n",
       "</style>\n",
       "<table border=\"1\" class=\"dataframe\">\n",
       "  <thead>\n",
       "    <tr style=\"text-align: right;\">\n",
       "      <th></th>\n",
       "      <th>Sex</th>\n",
       "      <th>Year</th>\n",
       "      <th>Concentration</th>\n",
       "      <th>Hours spent socializing</th>\n",
       "      <th>Party Attendance</th>\n",
       "      <th>Conversation Starting</th>\n",
       "      <th>Correcting someone</th>\n",
       "      <th>Lottery Ticket Price</th>\n",
       "      <th>Borrowed Money</th>\n",
       "      <th>Reward</th>\n",
       "      <th>Email</th>\n",
       "    </tr>\n",
       "  </thead>\n",
       "  <tbody>\n",
       "    <tr>\n",
       "      <th>0</th>\n",
       "      <td>1</td>\n",
       "      <td>2</td>\n",
       "      <td>Special Concentration</td>\n",
       "      <td>3</td>\n",
       "      <td>3</td>\n",
       "      <td>4</td>\n",
       "      <td>3</td>\n",
       "      <td>2</td>\n",
       "      <td>3</td>\n",
       "      <td>5</td>\n",
       "      <td>Jamesrose@college.harvard.edu</td>\n",
       "    </tr>\n",
       "    <tr>\n",
       "      <th>1</th>\n",
       "      <td>1</td>\n",
       "      <td>2</td>\n",
       "      <td>Mathematics</td>\n",
       "      <td>3</td>\n",
       "      <td>2</td>\n",
       "      <td>3</td>\n",
       "      <td>3</td>\n",
       "      <td>4</td>\n",
       "      <td>2</td>\n",
       "      <td>5</td>\n",
       "      <td>Hroatman@college.harvard.edu</td>\n",
       "    </tr>\n",
       "    <tr>\n",
       "      <th>2</th>\n",
       "      <td>2</td>\n",
       "      <td>3</td>\n",
       "      <td>Sociology</td>\n",
       "      <td>3</td>\n",
       "      <td>3</td>\n",
       "      <td>4</td>\n",
       "      <td>4</td>\n",
       "      <td>3</td>\n",
       "      <td>2</td>\n",
       "      <td>3</td>\n",
       "      <td>kathrynglover@college.harvard.edu</td>\n",
       "    </tr>\n",
       "    <tr>\n",
       "      <th>3</th>\n",
       "      <td>1</td>\n",
       "      <td>2</td>\n",
       "      <td>Statistics and Computer Science</td>\n",
       "      <td>3</td>\n",
       "      <td>5</td>\n",
       "      <td>4</td>\n",
       "      <td>2</td>\n",
       "      <td>2</td>\n",
       "      <td>3</td>\n",
       "      <td>6</td>\n",
       "      <td>ssadhuka@college.harvard.edu</td>\n",
       "    </tr>\n",
       "    <tr>\n",
       "      <th>4</th>\n",
       "      <td>2</td>\n",
       "      <td>3</td>\n",
       "      <td>OEB</td>\n",
       "      <td>3</td>\n",
       "      <td>5</td>\n",
       "      <td>4</td>\n",
       "      <td>2</td>\n",
       "      <td>5</td>\n",
       "      <td>2</td>\n",
       "      <td>5</td>\n",
       "      <td>Sbakaysa@college.harvard.edu</td>\n",
       "    </tr>\n",
       "  </tbody>\n",
       "</table>\n",
       "</div>"
      ],
      "text/plain": [
       "   Sex  Year                    Concentration  Hours spent socializing  \\\n",
       "0    1     2            Special Concentration                        3   \n",
       "1    1     2                      Mathematics                        3   \n",
       "2    2     3                        Sociology                        3   \n",
       "3    1     2  Statistics and Computer Science                        3   \n",
       "4    2     3                              OEB                        3   \n",
       "\n",
       "   Party Attendance  Conversation Starting  Correcting someone  \\\n",
       "0                 3                      4                   3   \n",
       "1                 2                      3                   3   \n",
       "2                 3                      4                   4   \n",
       "3                 5                      4                   2   \n",
       "4                 5                      4                   2   \n",
       "\n",
       "   Lottery Ticket Price  Borrowed Money  Reward  \\\n",
       "0                     2               3       5   \n",
       "1                     4               2       5   \n",
       "2                     3               2       3   \n",
       "3                     2               3       6   \n",
       "4                     5               2       5   \n",
       "\n",
       "                               Email  \n",
       "0      Jamesrose@college.harvard.edu  \n",
       "1       Hroatman@college.harvard.edu  \n",
       "2  kathrynglover@college.harvard.edu  \n",
       "3       ssadhuka@college.harvard.edu  \n",
       "4       Sbakaysa@college.harvard.edu  "
      ]
     },
     "execution_count": 3,
     "metadata": {},
     "output_type": "execute_result"
    }
   ],
   "source": [
    "numerical = pd.read_csv('numerical_cleaned.csv')\n",
    "numerical.head()"
   ]
  },
  {
   "cell_type": "code",
   "execution_count": 52,
   "metadata": {},
   "outputs": [],
   "source": [
    "random.seed(6)\n",
    "def spin_wheel(output = 0):\n",
    "    odds=[5, 5, 10, 20, 50, 2]\n",
    "    total_prize = 0\n",
    "    for i in range(numerical.shape[0]):\n",
    "        if random.randint(1, odds[numerical.iloc[i]['Reward']-1]) == 1:\n",
    "            total_prize += odds[numerical.iloc[i]['Reward']-1]\n",
    "            if output:\n",
    "                print(numerical.iloc[i]['Email'], \" \", odds[numerical.iloc[i]['Reward']-1])\n",
    "    if output:\n",
    "        print(total_prize)\n",
    "    return total_prize"
   ]
  },
  {
   "cell_type": "code",
   "execution_count": 56,
   "metadata": {},
   "outputs": [
    {
     "name": "stdout",
     "output_type": "stream",
     "text": [
      "123\n"
     ]
    }
   ],
   "source": [
    "for n in range(1000):\n",
    "    random.seed(n)\n",
    "    if spin_wheel()==100:\n",
    "        print(n)\n",
    "        break"
   ]
  },
  {
   "cell_type": "code",
   "execution_count": 57,
   "metadata": {},
   "outputs": [
    {
     "name": "stdout",
     "output_type": "stream",
     "text": [
      "Dgutierrez@college.harvard.edu   10\n",
      "rhernandez@college.harvard.edu   2\n",
      "hb3555@gmail.com   2\n",
      "cjespinoza@college.harvard.edu   5\n",
      "sarahlynch@college.harvard.edu   50\n",
      "jlondon@college.harvard.edu   5\n",
      "Amandayang1@college.harvard.edu   2\n",
      "ychinlee@college.harvard.edu   5\n",
      "jbikales@college.harvard.edu   2\n",
      "jmoriarty@college.harvard.edu   2\n",
      "samuelmonkley@college.harvard.edu   10\n",
      "kelleybabphavong@college.harvard.edu   5\n",
      "100\n"
     ]
    },
    {
     "data": {
      "text/plain": [
       "100"
      ]
     },
     "execution_count": 57,
     "metadata": {},
     "output_type": "execute_result"
    }
   ],
   "source": [
    "random.seed(n)\n",
    "spin_wheel(1)"
   ]
  },
  {
   "cell_type": "code",
   "execution_count": null,
   "metadata": {},
   "outputs": [],
   "source": []
  }
 ],
 "metadata": {
  "kernelspec": {
   "display_name": "Python 3",
   "language": "python",
   "name": "python3"
  },
  "language_info": {
   "codemirror_mode": {
    "name": "ipython",
    "version": 3
   },
   "file_extension": ".py",
   "mimetype": "text/x-python",
   "name": "python",
   "nbconvert_exporter": "python",
   "pygments_lexer": "ipython3",
   "version": "3.6.9"
  }
 },
 "nbformat": 4,
 "nbformat_minor": 4
}
